{
 "cells": [
  {
   "cell_type": "markdown",
   "id": "e3561df3-edf0-42c8-a12f-2429432b6dd0",
   "metadata": {
    "tags": []
   },
   "source": [
    "# README：\n",
    "As announced in Next'23, Biglake supported all the popular open formats, including ICEBERG, HUDI, Deltalake. Taking BQ native format into consideration, there are four lakehouse format supported by Bigquery. What's the difference between these fomats? how to choose which format to use? \n",
    "\n",
    "In this [deck](https://docs.google.com/presentation/d/1DhaU3n2LnkijVcV36WqNV6dlNiROEVnRZPBK0nOreFY/edit), we tried to explain the PROS and CONS of each individual format from <b>underpinning architecture</b> and <b>process framework</b> perspective. \n",
    "\n",
    "As for <b>performance</b>, we will show in this notebook the end2end process about how to setup performance test envrionment, prepare test data and query, analyze the performance data collected. \n",
    "\n",
    "We use [TPCDS](https://www.tpc.org/tpcds/), one of the most popular analytics performance test framework,for this test. \n",
    "There are two approaches to generate TPCDS data: traditional and spark. Both approaches are tried and documented in this notebook. \n",
    "\n",
    "---"
   ]
  },
  {
   "cell_type": "markdown",
   "id": "729b2a24-ba9f-41cc-a1ac-9a4722debeaa",
   "metadata": {},
   "source": [
    "# Option-1: Generate TPCDS using traditional package"
   ]
  },
  {
   "cell_type": "markdown",
   "id": "a604a77d-2d1b-41ea-aea2-2bab330aaa2b",
   "metadata": {
    "tags": []
   },
   "source": [
    "## Step 1. Prepare TPCDS ENV\n",
    "In this guide, VM is leveraged to run the TPCDS process and the VM setting is listed below: \n",
    "*  <b>OS:</b> CentOS Linux release 7.9.2009 (Core)\n",
    "*  <b>Type:</b> n2-standard-16\n",
    "\n",
    "<b>prerequisite</b>\n",
    "*  Download the [tpcds packages](https://www.tpc.org/tpc_documents_current_versions/current_specifications5.asp) first. In this process, we downloaded package version 3.20 and copy it to GCS for the convenience sake. \n",
    "*  Dowload the [git pakcage](https://github.com/DigitalWNZ/gcp_python_code) which contains the following key components\n",
    "    *  [Bigquery schema json](https://github.com/DigitalWNZ/gcp_python_code/tree/main/Bigquery_schema_json) - Table schema in json format used for building bigquery native table\n",
    "    *  [Bigquery schema str](https://github.com/DigitalWNZ/gcp_python_code/tree/main/Bigquery_schema_str) - Table schema in str used for buidling iceberg table\n",
    "    \n",
    "    *  [Tpcds bigquery template](https://github.com/DigitalWNZ/gcp_python_code/tree/main/tpcds-bigquery-template) - Query template for bigquery which is used to generated query runnable on Bigquery. \n",
    "    *  [Generated query 320](https://github.com/DigitalWNZ/gcp_python_code/tree/main/generated_query_320) - Generated query adaptable to Bigquery\n",
    "    *  [tpcds_query_execution.py](https://github.com/DigitalWNZ/gcp_python_code/blob/main/tpcds_query_execution.py) - Python program to run queries and store the job information. \n",
    "    *  [tpcds_schema_trans_json2string.py](https://github.com/DigitalWNZ/gcp_python_code/blob/main/tpcds_schema_trans_json2string.py) - Python programe to translate schema in json to string \n",
    "    \n",
    "    *  [tpcds_gen_iceberg_no_par](https://github.com/DigitalWNZ/gcp_python_code/blob/main/tpcds_gen_iceberg_no_par) - Pyspark program to generate Biglake iceberg table without partition\n",
    "    *  [tpcds_gen_iceberg_with_par](https://github.com/DigitalWNZ/gcp_python_code/blob/main/tpcds_gen_iceberg_with_par) - Pyspark program to generate Biglake iceberg table partitioned on data field\n",
    "\n",
    "---\n",
    "<b>Internal Reference</b>\n",
    "*  [Bigquery TPCDS](https://docs.google.com/document/d/1iOR9Y7fEzU3198JJjYMolUav60RejGo9xGw6BNWApm8/edit)\n",
    "*  [Bigquery schema](https://source.corp.google.com/piper///depot/google3/experimental/users/bchhay/tpcds/schema/)\n",
    "*  [Bigquery query template](https://source.corp.google.com/piper///depot/google3/experimental/users/bchhay/tpcds/query_templates/)\n",
    "*  [Bigquery query generation utils 1](https://source.corp.google.com/piper///depot/google3/experimental/users/bchhay/tpcds/generate_queries_function.sh)\n",
    "*  [Bigquery query generation utils 2](https://source.corp.google.com/piper///depot/google3/experimental/users/bchhay/tpcds/generate_queries.sh)\n"
   ]
  },
  {
   "cell_type": "code",
   "execution_count": 11,
   "id": "36b4d8b4-d864-4571-a8ba-597d0aac66b7",
   "metadata": {},
   "outputs": [],
   "source": [
    "%%bash\n",
    "# Install prerequisite tools. \n",
    "sudo yum -y install unzip\n",
    "sudo yum -y install gcc\n",
    "sudo yum -y install make\n",
    "\n",
    "# unzip and build the TPCDS Tools. Since I've uploaded the package to GCS in advance so I only copy it here. \n",
    "gsutil cp gs://agolis-allen-first-iceberg-tpcds/TPC-DS-Tool-320.zip .\n",
    "unzip TPC-DS-Tool-320.zip\n",
    "cd DSGen-software-code-3.2.0rc1/\n",
    "cd tools/\n",
    "make"
   ]
  },
  {
   "cell_type": "markdown",
   "id": "f96af050-5297-4d2f-abcc-26719817a28c",
   "metadata": {
    "tags": []
   },
   "source": [
    "## Step 2: Generate Data and Bigquery native tables\n",
    "Run <b>DSDGEN</b> command to generate TPCDS data. \n",
    "*  [DSDGEN Reference](https://datacadamia.com/data/type/relation/benchmark/tpcds/dsdgen)\n",
    "*  [Scale Factor Reference](https://www.tpc.org/TPC_Documents_Current_Versions/pdf/TPC-DS_v3.2.0.pdf#page=41&zoom=100,325,96)\n",
    "\n",
    "When creating Bigquery native tables, It is necessary to provide the json schema which can be found at [Bigquery schema json](https://github.com/DigitalWNZ/gcp_python_code/tree/main/Bigquery_schema_json)\n",
    "\n",
    "The generated data will stored in dataset <b>tpcds_data_320</b> which can be adjusted accordingly."
   ]
  },
  {
   "cell_type": "code",
   "execution_count": null,
   "id": "adc16bc4-f5e2-499a-b38e-215d2b578d41",
   "metadata": {},
   "outputs": [],
   "source": [
    "# Build /tpcds directory to store the generated data. \n",
    "cd /\n",
    "mkdir tpcds\n",
    "\n",
    "# Generate data and stored in pre-build directory \n",
    "sudo ./dsdgen -scale 100 -dir /tpcds -parallel 10 -child 1\n",
    "\n",
    "# Upload the data to GCS \n",
    "gsutil mb -l us-central1 gs://agolis-allen-first-iceberg-tpcds\n",
    "gsutil -m cp /tpcds/*.dat gs://agolis-allen-first-iceberg-tpcds/tpcds_320_data/\n",
    "\n",
    "# Load data to build Bigquery native table, replace the dataset name \"tpcds_data_320\" and schema json. \n",
    "bq --location=us-central1  mk --dataset --force=true agolis-allen-first:tpcds_data_320\n",
    "bq load --field_delimiter='|' --source_format=CSV --quote='' --ignore_unknown_values tpcds_data_320.call_center gs://agolis-allen-first-iceberg-tpcds/tpcds_320_data/call_center_1_10.dat ../Bigquery_schema/call_center.json\n",
    "bq load --field_delimiter='|' --source_format=CSV --quote='' --ignore_unknown_values tpcds_data_320.customer_demographics gs://agolis-allen-first-iceberg-tpcds/tpcds_320_data/customer_demographics_1_10.dat ../Bigquery_schema/customer_demographics.json\n",
    "bq load --field_delimiter='|' --source_format=CSV --quote='' --ignore_unknown_values tpcds_data_320.income_band gs://agolis-allen-first-iceberg-tpcds/tpcds_320_data/income_band_1_10.dat ../Bigquery_schema/income_band.json\n",
    "bq load --field_delimiter='|' --source_format=CSV --quote='' --ignore_unknown_values tpcds_data_320.ship_mode gs://agolis-allen-first-iceberg-tpcds/tpcds_320_data/ship_mode_1_10.dat ../Bigquery_schema/ship_mode.json\n",
    "bq load --field_delimiter='|' --source_format=CSV --quote='' --ignore_unknown_values tpcds_data_320.warehouse gs://agolis-allen-first-iceberg-tpcds/tpcds_320_data/warehouse_1_10.dat ../Bigquery_schema/warehouse.json\n",
    "bq load --field_delimiter='|' --source_format=CSV --quote='' --ignore_unknown_values tpcds_data_320.catalog_page gs://agolis-allen-first-iceberg-tpcds/tpcds_320_data/catalog_page_1_10.dat ../Bigquery_schema/catalog_page.json\n",
    "bq load --field_delimiter='|' --source_format=CSV --quote='' --ignore_unknown_values tpcds_data_320.customer gs://agolis-allen-first-iceberg-tpcds/tpcds_320_data/customer_1_10.dat ../Bigquery_schema/customer.json\n",
    "bq load --field_delimiter='|' --source_format=CSV --quote='' --ignore_unknown_values tpcds_data_320.inventory gs://agolis-allen-first-iceberg-tpcds/tpcds_320_data/inventory_1_10.dat ../Bigquery_schema/inventory.json\n",
    "bq load --field_delimiter='|' --source_format=CSV --quote='' --ignore_unknown_values tpcds_data_320.store gs://agolis-allen-first-iceberg-tpcds/tpcds_320_data/store_1_10.dat ../Bigquery_schema/store.json\n",
    "bq load --field_delimiter='|' --source_format=CSV --quote='' --ignore_unknown_values tpcds_data_320.web_page gs://agolis-allen-first-iceberg-tpcds/tpcds_320_data/web_page_1_10.dat ../Bigquery_schema/web_page.json\n",
    "bq load --field_delimiter='|' --source_format=CSV --quote='' --ignore_unknown_values tpcds_data_320.catalog_returns gs://agolis-allen-first-iceberg-tpcds/tpcds_320_data/catalog_returns_1_10.dat ../Bigquery_schema/catalog_returns.json\n",
    "bq load --field_delimiter='|' --source_format=CSV --quote='' --ignore_unknown_values tpcds_data_320.date_dim gs://agolis-allen-first-iceberg-tpcds/tpcds_320_data/date_dim_1_10.dat ../Bigquery_schema/date_dim.json\n",
    "bq load --field_delimiter='|' --source_format=CSV --quote='' --ignore_unknown_values tpcds_data_320.item gs://agolis-allen-first-iceberg-tpcds/tpcds_320_data/item_1_10.dat ../Bigquery_schema/item.json\n",
    "bq load --field_delimiter='|' --source_format=CSV --quote='' --ignore_unknown_values tpcds_data_320.store_returns gs://agolis-allen-first-iceberg-tpcds/tpcds_320_data/store_returns_1_10.dat ../Bigquery_schema/store_returns.json\n",
    "bq load --field_delimiter='|' --source_format=CSV --quote='' --ignore_unknown_values tpcds_data_320.web_returns gs://agolis-allen-first-iceberg-tpcds/tpcds_320_data/web_returns_1_10.dat ../Bigquery_schema/web_returns.json\n",
    "bq load --field_delimiter='|' --source_format=CSV --quote='' --ignore_unknown_values tpcds_data_320.catalog_sales gs://agolis-allen-first-iceberg-tpcds/tpcds_320_data/catalog_sales_1_10.dat ../Bigquery_schema/catalog_sales.json\n",
    "bq load --field_delimiter='|' --source_format=CSV --quote='' --ignore_unknown_values tpcds_data_320.promotion gs://agolis-allen-first-iceberg-tpcds/tpcds_320_data/promotion_1_10.dat ../Bigquery_schema/promotion.json\n",
    "bq load --field_delimiter='|' --source_format=CSV --quote='' --ignore_unknown_values tpcds_data_320.store_sales gs://agolis-allen-first-iceberg-tpcds/tpcds_320_data/store_sales_1_10.dat ../Bigquery_schema/store_sales.json\n",
    "bq load --field_delimiter='|' --source_format=CSV --quote='' --ignore_unknown_values tpcds_data_320.web_sales gs://agolis-allen-first-iceberg-tpcds/tpcds_320_data/web_sales_1_10.dat ../Bigquery_schema/web_sales.json\n",
    "bq load --field_delimiter='|' --source_format=CSV --quote='' --ignore_unknown_values tpcds_data_320.customer_address gs://agolis-allen-first-iceberg-tpcds/tpcds_320_data/customer_address_1_10.dat ../Bigquery_schema/customer_address.json\n",
    "bq load --field_delimiter='|' --source_format=CSV --quote='' --ignore_unknown_values tpcds_data_320.household_demographics gs://agolis-allen-first-iceberg-tpcds/tpcds_320_data/household_demographics_1_10.dat ../Bigquery_schema/household_demographics.json\n",
    "bq load --field_delimiter='|' --source_format=CSV --quote='' --ignore_unknown_values tpcds_data_320.reason gs://agolis-allen-first-iceberg-tpcds/tpcds_320_data/reason_1_10.dat ../Bigquery_schema/reason.json\n",
    "bq load --field_delimiter='|' --source_format=CSV --quote='' --ignore_unknown_values tpcds_data_320.time_dim gs://agolis-allen-first-iceberg-tpcds/tpcds_320_data/time_dim_1_10.dat ../Bigquery_schema/time_dim.json\n",
    "bq load --field_delimiter='|' --source_format=CSV --quote='' --ignore_unknown_values tpcds_data_320.web_site gs://agolis-allen-first-iceberg-tpcds/tpcds_320_data/web_site_1_10.dat ../Bigquery_schema/web_site.json\n",
    "bq load --field_delimiter='|' --source_format=CSV --quote='' --ignore_unknown_values tpcds_data_320.dbgen_version gs://agolis-allen-first-iceberg-tpcds/tpcds_320_data/dbgen_version_1_10.dat ../Bigquery_schema/dbgen_version.json"
   ]
  },
  {
   "cell_type": "markdown",
   "id": "fc1826e8-a77d-478e-8394-48b18035bdbb",
   "metadata": {
    "tags": []
   },
   "source": [
    "## Step 3: Generate iceberg table and create Biglake icerberg tables\n",
    "After the data has been loaded into Bigquery native table, we can run following two pyspark jobs directly in Bigquery to generate ICEBERG data on GCS and build biglake iceberg table. \n",
    "*  [tpcds_gen_iceberg_no_par](https://github.com/DigitalWNZ/gcp_python_code/blob/main/tpcds_gen_iceberg_no_par) - Pyspark program to generate Biglake iceberg table without partition\n",
    "*  [tpcds_gen_iceberg_with_par](https://github.com/DigitalWNZ/gcp_python_code/blob/main/tpcds_gen_iceberg_with_par) - Pyspark program to generate Biglake iceberg table partitioned on data field\n",
    "\n",
    "When creating iceberg table, schema should be inputted in \"(name stribg, age integer,....)\" format which can be found at [Bigquery schema str](https://github.com/DigitalWNZ/gcp_python_code/tree/main/Bigquery_schema_str), It is generated from the [Bigquery json schema](https://github.com/DigitalWNZ/gcp_python_code/tree/main/Bigquery_schema_json) using this tool [tpcds_schema_trans_json2string.py](https://github.com/DigitalWNZ/gcp_python_code/blob/main/tpcds_schema_trans_json2string.py) \n",
    "\n",
    "The generated data will be stored in two datasets <b>tpcds_data_320_iceberg_no_par</b> and <b>tpcds_data_320_iceberg_with_par</b> by default, users can adjust the dataset name accordingly. "
   ]
  },
  {
   "cell_type": "code",
   "execution_count": 9,
   "id": "549c45ef-be98-4f41-889f-7d2a37693141",
   "metadata": {},
   "outputs": [],
   "source": [
    "# 1. Create connection for calling spark procedure\n",
    "bq mk --connection --connection_type='SPARK' --project_id=agolis-allen-first --location=us-central1 spark-conn-tpcds\n",
    "\n",
    "# 2. Create connection for creating biglake tables\n",
    "bq mk --connection --connection_type='CLOUD_RESOURCE' --project_id=agolis-allen-first --location=us-central1 biglake\n",
    "\n",
    "# 3. grant bigquery admin, storage admin, biglake admin to the SA attached to the connections. \n",
    "\n",
    "# 4. create dataset to host biglake icerberg table\n",
    "bq --location=us-central1  mk --dataset --force=true agolis-allen-first:tpcds_data_320_iceberg_with_par\n",
    "bq --location=us-central1  mk --dataset --force=true agolis-allen-first:tpcds_data_320_iceberg_no_par\n",
    "\n",
    "# 5. run spark procedure in Bigquery to create biglake tables.  In the procedure, the schema is translated from Bigquery json format schema using program. "
   ]
  },
  {
   "cell_type": "markdown",
   "id": "44d9eaf1-9cc8-4bb5-b575-3145d83cbeea",
   "metadata": {
    "tags": []
   },
   "source": [
    "## Step 4: Generate query\n",
    "*  Run <b>DSQGEN</b> command to generate the query. Since TPCDS does not provide native Bigquery SQL, so we need to replace  <b>TPCDS native query templates</b>  with <b>[Bigquery template](https://github.com/DigitalWNZ/gcp_python_code/tree/main/tpcds-bigquery-template)</b> which supports native bigquery syntax.  \n",
    "*  If you don't want to generate the query, you can also use the [query](https://github.com/DigitalWNZ/gcp_python_code/tree/main/generated_query_320) which has been generated already and is available to Bigquery"
   ]
  },
  {
   "cell_type": "code",
   "execution_count": null,
   "id": "a17c4362-2edc-42a0-97d2-54e1593d02a2",
   "metadata": {},
   "outputs": [],
   "source": [
    "cd DSGen-software-code-3.2.0rc1/\n",
    "\n",
    "# make to directory to store the generated query. \n",
    "rm -rf generated_query\n",
    "mkdir generated_query\n",
    "\n",
    "#[Option-1]replace the shipped query template with a template which support native bigquery query syntax. \n",
    "gsutil -m cp -r gs://agolis-allen-first-iceberg-tpcds/tpcds-bigquery-template .\n",
    "mv query_templates query_templates_orig\n",
    "mv tpcds-bigquery-template query_templates\n",
    "#[Option-2] Since users can specify which query template to use when running DSQGEN command, users can simply copy the template and specify this template in DSQGEN command. \n",
    "gsutil -m cp -r gs://agolis-allen-first-iceberg-tpcds/tpcds-bigquery-template .\n",
    "\n",
    "# Each DSQGEN execution generates the file \"query_0.sql\" in the target directory and the file will be overwritten by next execution, so move it to its final name.  \n",
    "for (( i=1; i<=99; i++ ));do query_template=\"$i.tpl\";echo \"Running dsqgen... Query: $i of 99\";./dsqgen -template $query_template -directory ../query_template -dialect ansi -scale 100 -output_dir ../generated_query;mv ../generated_query/query_0.sql ../generated_query/$i.sql;done\n",
    "queries_with_iterations=(\"14\" \"23\" \"24\" \"39\")\n",
    "queries_with_iterations_length=${#queries_with_iterations[@]}\n",
    "for (( i=0; i<${queries_with_iterations_length}; i++ ));do query_template=\"${queries_with_iterations[$i]}b.tpl\";  echo \"Running dsqgen... Query with iteration: ${queries_with_iterations[$i]} of [${queries_with_iterations[@]}]\"; ./dsqgen -template $query_template -directory ../query_template -dialect ansi -scale 100 -output_dir ../generated_query ; mv ../generated_query/query_0.sql ../generated_query/${queries_with_iterations[$i]}b.sql; done"
   ]
  },
  {
   "cell_type": "markdown",
   "id": "3c402e05-ea2a-4320-aea4-d3340ab25e57",
   "metadata": {
    "tags": []
   },
   "source": [
    "## Step 5: Validate query\n",
    "\n",
    "To facilitate query execution and performance data collection, we make a <b>[queryexecution controller program](https://github.com/DigitalWNZ/gcp_python_code/blob/main/tpcds_query_execution.py) </b> which can validate query, run query and collect performance data\n",
    "\n",
    "Here is the key parameters users need to specify before run the program. \n",
    "<ol>\n",
    "<li><b>default_project</b> -- the GCP project which contains the Bigquery/Biglake iceberg datasets. </li>\n",
    "<li><b>default_dataset</b> -- the Bigquery datasets which contains the Bigquery/Biglake tables.</li> \n",
    "<li><b>region</b> -- The region of Bigquery/Biglake datasets.</li>\n",
    "\n",
    "<li><b>result_project,result_dataset,result_table</b> -- The full path to Bigquery tables which stores the performance data collected from this program execution.</li>\n",
    "<li><b>cross_result_table</b>  -- The program execution will be joined with INFORMATION_SCHEMA data to present a holitic view of the execution, The comprehensive data will be stored in table {result_project}.{result_dataset}.{cross_result_table}</li>\n",
    "\n",
    "<li><b>run_id</b> -- Unique ID to identify each individual program execution.</li>\n",
    "<li><b>query_category</b> -- Description of each individual program execution, it's recommended to use this parameter to mark what data to query, such as 'Bigquery Native','Bigquery icerberg no partition','Bigquery icerberg with partition','Bigquery Native CMeta'.</li>\n",
    "<li><b>query_run_times</b> -- The number of each individual query's execution. </li>\n",
    "<li><b>dry_run_flag</b> -- Control the query execution mode of each program run</li>\n",
    "    -  <b>False</b> -- Query will be executed and performance data will be collected<br>\n",
    "    -  <b>True</b> -- Query will run in Dry_run mode and no data will be collected. it's used for query validation\n",
    "</ol>\n",
    "\n",
    "In this step, set <b>dry_run_flag=True, query_run_times = 1</b> to validate the query. "
   ]
  },
  {
   "cell_type": "markdown",
   "id": "f0356384-b9e2-4b26-9599-50052c01604f",
   "metadata": {},
   "source": [
    "## Step 6. Run generated queries\n",
    "Set the parameter accordingly to run the controller program and result is saved to {result_project}.{result_dataset}.{result_table}/{cross_result_table}"
   ]
  },
  {
   "cell_type": "markdown",
   "id": "fe6439cc-3e9a-4c1b-ac2b-8cf9bbb1c685",
   "metadata": {},
   "source": [
    "# Step 7. Analyze the performance result. \n",
    "We run the controller program 4 times on Bigquery native table, Biglake iceberg tables without partition, Biglake icerberg tables with partion and Bigquery native table with CMeta enabled."
   ]
  },
  {
   "cell_type": "code",
   "execution_count": 18,
   "id": "a1045337-9c44-41ea-bcc4-ab6455c6a60b",
   "metadata": {},
   "outputs": [
    {
     "data": {
      "text/html": [
       "<div>\n",
       "<style scoped>\n",
       "    .dataframe tbody tr th:only-of-type {\n",
       "        vertical-align: middle;\n",
       "    }\n",
       "\n",
       "    .dataframe tbody tr th {\n",
       "        vertical-align: top;\n",
       "    }\n",
       "\n",
       "    .dataframe thead th {\n",
       "        text-align: right;\n",
       "    }\n",
       "</style>\n",
       "<table border=\"1\" class=\"dataframe\">\n",
       "  <thead>\n",
       "    <tr style=\"text-align: right;\">\n",
       "      <th></th>\n",
       "      <th>category</th>\n",
       "      <th>slot</th>\n",
       "      <th>duration</th>\n",
       "      <th>bytes</th>\n",
       "    </tr>\n",
       "  </thead>\n",
       "  <tbody>\n",
       "    <tr>\n",
       "      <th>0</th>\n",
       "      <td>Bigquery Native</td>\n",
       "      <td>38.444397</td>\n",
       "      <td>1237.185603</td>\n",
       "      <td>7.702637e+08</td>\n",
       "    </tr>\n",
       "    <tr>\n",
       "      <th>1</th>\n",
       "      <td>Bigquery icerberg no partition Native</td>\n",
       "      <td>49.552694</td>\n",
       "      <td>2357.965053</td>\n",
       "      <td>8.780093e+08</td>\n",
       "    </tr>\n",
       "    <tr>\n",
       "      <th>2</th>\n",
       "      <td>Bigquery icerberg with partition</td>\n",
       "      <td>237.055181</td>\n",
       "      <td>2653.493916</td>\n",
       "      <td>8.782039e+08</td>\n",
       "    </tr>\n",
       "    <tr>\n",
       "      <th>3</th>\n",
       "      <td>Bigquery Native CMeta</td>\n",
       "      <td>19.407814</td>\n",
       "      <td>1109.209629</td>\n",
       "      <td>7.702637e+08</td>\n",
       "    </tr>\n",
       "  </tbody>\n",
       "</table>\n",
       "</div>"
      ],
      "text/plain": [
       "                                category        slot     duration  \\\n",
       "0                        Bigquery Native   38.444397  1237.185603   \n",
       "1  Bigquery icerberg no partition Native   49.552694  2357.965053   \n",
       "2       Bigquery icerberg with partition  237.055181  2653.493916   \n",
       "3                  Bigquery Native CMeta   19.407814  1109.209629   \n",
       "\n",
       "          bytes  \n",
       "0  7.702637e+08  \n",
       "1  8.780093e+08  \n",
       "2  8.782039e+08  \n",
       "3  7.702637e+08  "
      ]
     },
     "execution_count": 18,
     "metadata": {},
     "output_type": "execute_result"
    }
   ],
   "source": [
    "import os\n",
    "import pandas as pd\n",
    "import plotly.express as px\n",
    "from google.cloud import bigquery\n",
    "\n",
    "import matplotlib.pyplot as plt\n",
    "%matplotlib inline\n",
    "\n",
    "Project_id='agolis-allen-first'\n",
    "client = bigquery.Client(Project_id)\n",
    "\n",
    "query = f\"\"\"\n",
    "SELECT category, exp(avg(log(avg_slots))) as slot,exp(avg(log(job_duraiton))) as duration, exp(avg(log(total_bytes_processed))) as bytes FROM `agolis-allen-first.tpcds_data_320.tpcds_cross_result`  group by 1\n",
    "union all\n",
    "SELECT category, exp(avg(log(avg_slots))) as slot,exp(avg(log(job_duraiton))) as duration, exp(avg(log(total_bytes_processed))) as bytes  FROM `agolis-allen-first.tpcds_data_320.tpcds_cross_result_cmeta` group by 1\n",
    "union all\n",
    "SELECT category, exp(avg(log(avg_slots))) as slot,exp(avg(log(job_duraiton))) as duration, exp(avg(log(total_bytes_processed))) as bytes  FROM `agolis-allen-first.tpcds_data_320_iceberg_no_par.tpcds_cross_result` group by 1\n",
    "union all\n",
    "SELECT category, exp(avg(log(avg_slots))) as slot,exp(avg(log(job_duraiton))) as duration, exp(avg(log(total_bytes_processed))) as bytes  FROM `agolis-allen-first.tpcds_data_320_iceberg_with_par.tpcds_cross_result` group by 1;\n",
    "\"\"\"\n",
    "job_config = bigquery.job.QueryJobConfig(use_query_cache=True)\n",
    "query_job = client.query(query,job_config=job_config)\n",
    "result_df = query_job.to_dataframe()\n",
    "\n",
    "result_df"
   ]
  },
  {
   "cell_type": "code",
   "execution_count": 27,
   "id": "83b2baf5-2797-4938-a37f-bb47b5835308",
   "metadata": {},
   "outputs": [
    {
     "data": {
      "text/html": [
       "<div>\n",
       "<style scoped>\n",
       "    .dataframe tbody tr th:only-of-type {\n",
       "        vertical-align: middle;\n",
       "    }\n",
       "\n",
       "    .dataframe tbody tr th {\n",
       "        vertical-align: top;\n",
       "    }\n",
       "\n",
       "    .dataframe thead th {\n",
       "        text-align: right;\n",
       "    }\n",
       "</style>\n",
       "<table border=\"1\" class=\"dataframe\">\n",
       "  <thead>\n",
       "    <tr style=\"text-align: right;\">\n",
       "      <th>category</th>\n",
       "      <th>index</th>\n",
       "      <th>Bigquery Native</th>\n",
       "      <th>Bigquery icerberg no partition Native</th>\n",
       "      <th>Bigquery icerberg with partition</th>\n",
       "      <th>Bigquery Native CMeta</th>\n",
       "    </tr>\n",
       "  </thead>\n",
       "  <tbody>\n",
       "    <tr>\n",
       "      <th>0</th>\n",
       "      <td>slot</td>\n",
       "      <td>38.444397</td>\n",
       "      <td>49.552694</td>\n",
       "      <td>237.055181</td>\n",
       "      <td>19.407814</td>\n",
       "    </tr>\n",
       "    <tr>\n",
       "      <th>1</th>\n",
       "      <td>duration</td>\n",
       "      <td>1237.185603</td>\n",
       "      <td>2357.965053</td>\n",
       "      <td>2653.493916</td>\n",
       "      <td>1109.209629</td>\n",
       "    </tr>\n",
       "    <tr>\n",
       "      <th>2</th>\n",
       "      <td>bytes</td>\n",
       "      <td>734.580672</td>\n",
       "      <td>837.334944</td>\n",
       "      <td>837.520464</td>\n",
       "      <td>734.580672</td>\n",
       "    </tr>\n",
       "  </tbody>\n",
       "</table>\n",
       "</div>"
      ],
      "text/plain": [
       "category     index  Bigquery Native  Bigquery icerberg no partition Native  \\\n",
       "0             slot        38.444397                              49.552694   \n",
       "1         duration      1237.185603                            2357.965053   \n",
       "2            bytes       734.580672                             837.334944   \n",
       "\n",
       "category  Bigquery icerberg with partition  Bigquery Native CMeta  \n",
       "0                               237.055181              19.407814  \n",
       "1                              2653.493916            1109.209629  \n",
       "2                               837.520464             734.580672  "
      ]
     },
     "execution_count": 27,
     "metadata": {},
     "output_type": "execute_result"
    }
   ],
   "source": [
    "result_df['bytes']=result_df['bytes']/(1024*1024)\n",
    "result_df_T = result_df.set_index('category').T.reset_index()\n",
    "result_df_T"
   ]
  },
  {
   "cell_type": "code",
   "execution_count": 28,
   "id": "7a9cca62-372c-4ad2-af44-023e393777bb",
   "metadata": {},
   "outputs": [
    {
     "data": {
      "image/png": "[encoded data removed]",
      "text/plain": [
       "<Figure size 1440x720 with 1 Axes>"
      ]
     },
     "metadata": {
      "needs_background": "light"
     },
     "output_type": "display_data"
    }
   ],
   "source": [
    "fig, ax = plt.subplots(figsize=(20,10)) \n",
    "result_df_T.plot(x = \"index\", y = [\"Bigquery Native\",\"Bigquery icerberg no partition Native\",\"Bigquery icerberg with partition\",\"Bigquery Native CMeta\"], secondary_y = \"bytes\", ax = ax,kind='bar') \n",
    "for container in ax.containers:\n",
    "    ax.bar_label(container)"
   ]
  },
  {
   "cell_type": "markdown",
   "id": "49b7d73b-2fc1-4283-9f63-57acd3024ae2",
   "metadata": {},
   "source": [
    "# Findings \n",
    "*  <b>Cmeta matter</b> --  if we only look at \"Bigquery Native\" and \"Bigquery Native Cmeta\", it's quite obvious Cmeta can dramatically reduct slot usage which is doule-sharp sword, reduce query response time. \n",
    "    *  <b>Remaining question</b> \n",
    "        *  Why bytes was not redued? \n",
    "\n",
    "*  <b>Biglake tables less performant than native table</b> -- Biglake tables consumes more slot while takes longer duration compared with Bigquery native tables.\n",
    "    *  <b>Remaining question</b> \n",
    "        *  Why Iceberg with partition takes more slot and longer duration than no partition\n",
    "        *  Why Iceberg with partition does not reduct bytes scanned?  the data volume is too small? will try larger scale factor later. \n",
    "---"
   ]
  },
  {
   "cell_type": "markdown",
   "id": "de7b981c-63fb-409e-b7be-11be3207ff9e",
   "metadata": {},
   "source": [
    "# Option-2:  generate TPCDS data using spark\n",
    "It's also possible to generate TPCDS data in spark ecosystem which has been decribed in [Forrest Document](https://docs.google.com/document/d/1cEORejAHMBN_151IeYR8x3GfEk_VxrB5azdcpPOqsUU/edit?resourcekey=0-_m1Bir1x9ne3UEC_k4XZjQ) and [Github](https://github.com/gddezero/gcp-samples/tree/main/tpcds_dataproc). \n",
    "\n",
    "This process is alos tried and documented below. However, we met some questions which may need further investigation. \n"
   ]
  },
  {
   "cell_type": "markdown",
   "id": "2fab35c7-1395-4788-b993-7e848e96cad9",
   "metadata": {
    "tags": []
   },
   "source": [
    "## Step 1.Create dataproc cluster to generate TPCDS data on GCS"
   ]
  },
  {
   "cell_type": "code",
   "execution_count": 1,
   "id": "d5c40095-c441-49da-9569-a7e968355748",
   "metadata": {},
   "outputs": [],
   "source": [
    "%%bash\n",
    "export CLUSTER_NAME=tpcds-cluster\n",
    "export PROJECT=agolis-allen-first\n",
    "export REGION=us-central1\n",
    "export NETWORK=first-vpc\n",
    "export SUBNET=first-vpc\n",
    "export DATAPROC_BUCKET=agolis-allen-first-iceberg-tpcds\n",
    "export DW_BUCKET=agolis-allen-first-iceberg-tpcds\n",
    "export DPMS_NAME=hms\n",
    "gcloud config set project ${PROJECT}\n",
    "\n",
    "gcloud metastore services create ${DPMS_NAME} \\\n",
    "  --location=${REGION} \\\n",
    "  --hive-metastore-version=3.1.2 \\\n",
    "  --tier=developer \\\n",
    "  --network=${NETWORK} \\\n",
    "  --hive-metastore-configs=\"hive.metastore.warehouse.dir=gs://${DW_BUCKET}/dw\"\n",
    "\n",
    "git clone https://github.com/gddezero/gcp-samples.git\n",
    "gsutil cp gcp-samples/tpcds_dataproc/tpcds_bootstrap.sh gs://${DATAPROC_BUCKET}/bootstrap/\n",
    "\n",
    "gcloud dataproc clusters create ${CLUSTER_NAME} \\\n",
    "  --project ${PROJECT} \\\n",
    "  --bucket ${DATAPROC_BUCKET} \\\n",
    "  --region ${REGION} \\\n",
    "  --subnet ${SUBNET} \\\n",
    "  --dataproc-metastore=projects/${PROJECT}/locations/${REGION}/services/${DPMS_NAME} \\\n",
    "  --scopes cloud-platform \\\n",
    "  --enable-component-gateway \\\n",
    "  --num-masters 1 \\\n",
    "  --num-workers 2 \\\n",
    "  --num-secondary-workers 0 \\\n",
    "  --master-machine-type n2d-highmem-4 \\\n",
    "  --master-min-cpu-platform \"AMD Milan\" \\\n",
    "  --master-boot-disk-type pd-balanced \\\n",
    "  --master-boot-disk-size 300GB \\\n",
    "  --image-version 2.1-debian11 \\\n",
    "  --worker-machine-type n2d-highmem-8 \\\n",
    "  --worker-min-cpu-platform \"AMD Milan\" \\\n",
    "  --worker-boot-disk-type pd-balanced \\\n",
    "  --worker-boot-disk-size 300GB \\\n",
    "  --secondary-worker-type spot \\\n",
    "  --secondary-worker-boot-disk-type pd-balanced \\\n",
    "  --worker-boot-disk-size 300GB \\\n",
    "  --initialization-actions gs://${DATAPROC_BUCKET}/bootstrap/tpcds_bootstrap.sh \\\n",
    "  --metadata DW_BUCKET=${DW_BUCKET} \\\n",
    "  --properties \"hive:yarn.log-aggregation-enable=true\" \\\n",
    "  --properties \"spark:spark.checkpoint.compress=true\" \\\n",
    "  --properties \"spark:spark.eventLog.compress=true\" \\\n",
    "  --properties \"spark:spark.eventLog.compression.codec=zstd\" \\\n",
    "  --properties \"spark:spark.eventLog.rolling.enabled=true\" \\\n",
    "  --properties \"spark:spark.io.compression.codec=zstd\" \\\n",
    "  --properties \"spark:spark.sql.parquet.compression.codec=zstd\" "
   ]
  },
  {
   "cell_type": "markdown",
   "id": "d51454ba-ccb6-4f24-972e-8d125077bc48",
   "metadata": {
    "tags": []
   },
   "source": [
    "## Step 2: Create Bigquery native table by loading the generated data. \n",
    "Run the following SQL in Bigquery"
   ]
  },
  {
   "cell_type": "code",
   "execution_count": 2,
   "id": "f3ae9a51-bbc4-4ce8-8618-c8c9f2b75850",
   "metadata": {},
   "outputs": [],
   "source": [
    "CREATE SCHEMA if not exists `agolis-allen-first.tpcds_data` OPTIONS ( location = 'us-central1');\n",
    "LOAD DATA INTO tpcds_data.call_center FROM FILES (format='PARQUET', uris = ['gs://agolis-allen-first-iceberg-tpcds/dw/tpcds1000/call_center/*.zstd.parquet']);\n",
    "LOAD DATA INTO tpcds_data.catalog_page FROM FILES (format='PARQUET', uris = ['gs://agolis-allen-first-iceberg-tpcds/dw/tpcds1000/catalog_page/*.zstd.parquet']);\n",
    "LOAD DATA INTO tpcds_data.catalog_returns FROM FILES (format='PARQUET', uris = ['gs://agolis-allen-first-iceberg-tpcds/dw/tpcds1000/catalog_returns/*.zstd.parquet']);\n",
    "LOAD DATA INTO tpcds_data.catalog_sales FROM FILES (format='PARQUET', uris = ['gs://agolis-allen-first-iceberg-tpcds/dw/tpcds1000/catalog_sales/*.zstd.parquet']);\n",
    "LOAD DATA INTO tpcds_data.customer FROM FILES (format='PARQUET', uris = ['gs://agolis-allen-first-iceberg-tpcds/dw/tpcds1000/customer/*.zstd.parquet']);\n",
    "LOAD DATA INTO tpcds_data.customer_address FROM FILES (format='PARQUET', uris = ['gs://agolis-allen-first-iceberg-tpcds/dw/tpcds1000/customer_address/*.zstd.parquet']);\n",
    "LOAD DATA INTO tpcds_data.customer_demographics FROM FILES (format='PARQUET', uris = ['gs://agolis-allen-first-iceberg-tpcds/dw/tpcds1000/customer_demographics/*.zstd.parquet']);\n",
    "LOAD DATA INTO tpcds_data.date_dim FROM FILES (format='PARQUET', uris = ['gs://agolis-allen-first-iceberg-tpcds/dw/tpcds1000/date_dim/*.zstd.parquet']);\n",
    "LOAD DATA INTO tpcds_data.household_demographics FROM FILES (format='PARQUET', uris = ['gs://agolis-allen-first-iceberg-tpcds/dw/tpcds1000/household_demographics/*.zstd.parquet']);\n",
    "LOAD DATA INTO tpcds_data.income_band FROM FILES (format='PARQUET', uris = ['gs://agolis-allen-first-iceberg-tpcds/dw/tpcds1000/income_band/*.zstd.parquet']);\n",
    "LOAD DATA INTO tpcds_data.inventory FROM FILES (format='PARQUET', uris = ['gs://agolis-allen-first-iceberg-tpcds/dw/tpcds1000/inventory/*.zstd.parquet']);\n",
    "LOAD DATA INTO tpcds_data.item FROM FILES (format='PARQUET', uris = ['gs://agolis-allen-first-iceberg-tpcds/dw/tpcds1000/item/*.zstd.parquet']);\n",
    "LOAD DATA INTO tpcds_data.promotion FROM FILES (format='PARQUET', uris = ['gs://agolis-allen-first-iceberg-tpcds/dw/tpcds1000/promotion/*.zstd.parquet']);\n",
    "LOAD DATA INTO tpcds_data.reason FROM FILES (format='PARQUET', uris = ['gs://agolis-allen-first-iceberg-tpcds/dw/tpcds1000/reason/*.zstd.parquet']);\n",
    "LOAD DATA INTO tpcds_data.ship_mode FROM FILES (format='PARQUET', uris = ['gs://agolis-allen-first-iceberg-tpcds/dw/tpcds1000/ship_mode/*.zstd.parquet']);\n",
    "LOAD DATA INTO tpcds_data.store FROM FILES (format='PARQUET', uris = ['gs://agolis-allen-first-iceberg-tpcds/dw/tpcds1000/store/*.zstd.parquet']);\n",
    "LOAD DATA INTO tpcds_data.store_returns FROM FILES (format='PARQUET', uris = ['gs://agolis-allen-first-iceberg-tpcds/dw/tpcds1000/store_returns/*.zstd.parquet']);\n",
    "LOAD DATA INTO tpcds_data.store_sales FROM FILES (format='PARQUET', uris = ['gs://agolis-allen-first-iceberg-tpcds/dw/tpcds1000/store_sales/*.zstd.parquet']);\n",
    "LOAD DATA INTO tpcds_data.time_dim FROM FILES (format='PARQUET', uris = ['gs://agolis-allen-first-iceberg-tpcds/dw/tpcds1000/time_dim/*.zstd.parquet']);\n",
    "LOAD DATA INTO tpcds_data.warehouse FROM FILES (format='PARQUET', uris = ['gs://agolis-allen-first-iceberg-tpcds/dw/tpcds1000/warehouse/*.zstd.parquet']);\n",
    "LOAD DATA INTO tpcds_data.web_page FROM FILES (format='PARQUET', uris = ['gs://agolis-allen-first-iceberg-tpcds/dw/tpcds1000/web_page/*.zstd.parquet']);\n",
    "LOAD DATA INTO tpcds_data.web_returns FROM FILES (format='PARQUET', uris = ['gs://agolis-allen-first-iceberg-tpcds/dw/tpcds1000/web_returns/*.zstd.parquet']);\n",
    "LOAD DATA INTO tpcds_data.web_sales FROM FILES (format='PARQUET', uris = ['gs://agolis-allen-first-iceberg-tpcds/dw/tpcds1000/web_sales/*.zstd.parquet']);\n",
    "LOAD DATA INTO tpcds_data.web_site FROM FILES (format='PARQUET', uris = ['gs://agolis-allen-first-iceberg-tpcds/dw/tpcds1000/web_site/*.zstd.parquet']);"
   ]
  },
  {
   "cell_type": "markdown",
   "id": "96fd7c9d-d477-4e9e-afad-2e1c1e68e6d6",
   "metadata": {},
   "source": [
    "## Step 3: Generate query\n",
    "*  Run <b>DSQGEN</b> command to generate the query. Since TPCDS does not provide native Bigquery SQL, so we need to replace  <b>TPCDS native query templates</b>  with <b>[Bigquery template](https://github.com/DigitalWNZ/gcp_python_code/tree/main/tpcds-bigquery-template)</b> which supports native bigquery syntax.  \n",
    "*  If you don't want to generate the query, you can also use the [query](https://github.com/DigitalWNZ/gcp_python_code/tree/main/generated_query_320) which has been generated already and is available to Bigquery"
   ]
  },
  {
   "cell_type": "code",
   "execution_count": null,
   "id": "0988e0ba-b343-4a44-9199-4928a1b66cd8",
   "metadata": {},
   "outputs": [],
   "source": [
    "cd DSGen-software-code-3.2.0rc1/\n",
    "\n",
    "# make to directory to store the generated query. \n",
    "rm -rf generated_query\n",
    "mkdir generated_query\n",
    "\n",
    "#[Option-1]replace the shipped query template with a template which support native bigquery query syntax. \n",
    "gsutil -m cp -r gs://agolis-allen-first-iceberg-tpcds/tpcds-bigquery-template .\n",
    "mv query_templates query_templates_orig\n",
    "mv tpcds-bigquery-template query_templates\n",
    "#[Option-2] Since users can specify which query template to use when running DSQGEN command, users can simply copy the template and specify this template in DSQGEN command. \n",
    "gsutil -m cp -r gs://agolis-allen-first-iceberg-tpcds/tpcds-bigquery-template .\n",
    "\n",
    "# Each DSQGEN execution generates the file \"query_0.sql\" in the target directory and the file will be overwritten by next execution, so move it to its final name.  \n",
    "for (( i=1; i<=99; i++ ));do query_template=\"$i.tpl\";echo \"Running dsqgen... Query: $i of 99\";./dsqgen -template $query_template -directory ../query_template -dialect ansi -scale 100 -output_dir ../generated_query;mv ../generated_query/query_0.sql ../generated_query/$i.sql;done\n",
    "queries_with_iterations=(\"14\" \"23\" \"24\" \"39\")\n",
    "queries_with_iterations_length=${#queries_with_iterations[@]}\n",
    "for (( i=0; i<${queries_with_iterations_length}; i++ ));do query_template=\"${queries_with_iterations[$i]}b.tpl\";  echo \"Running dsqgen... Query with iteration: ${queries_with_iterations[$i]} of [${queries_with_iterations[@]}]\"; ./dsqgen -template $query_template -directory ../query_template -dialect ansi -scale 100 -output_dir ../generated_query ; mv ../generated_query/query_0.sql ../generated_query/${queries_with_iterations[$i]}b.sql; done"
   ]
  },
  {
   "cell_type": "markdown",
   "id": "c9f85809-ea0c-4f04-aeff-4ec320f1fe7f",
   "metadata": {},
   "source": [
    "## Problem met\n",
    "\n",
    "The query genrated mismatch with table schema, the schema contains XXXX_date_sk while the SQL contains XXXX_time SK, or inv_data_sk is not contained in schema. <br>\n",
    "The following statement are used to fix part of the mismatch issues. \n",
    "\n",
    "We have to stopped here"
   ]
  },
  {
   "cell_type": "code",
   "execution_count": null,
   "id": "87087db7-5466-44ba-b2a9-497da18d8c89",
   "metadata": {},
   "outputs": [],
   "source": [
    "find ./ -type f -exec sed -i 's/sr_returned_date_sk/sr_return_time_sk/g' {} \\;\n",
    "find ./ -type f -exec sed -i 's/ws_sold_date_sk/ws_sold_time_sk/g' {} \\;\n",
    "find ./ -type f -exec sed -i 's/ss_sold_date_sk/ss_sold_time_sk/g' {} \\;\n",
    "find ./ -type f -exec sed -i 's/cs_sold_date_sk/cs_sold_time_sk/g' {} \\;\n",
    "find ./ -type f -exec sed -i 's/cr_returned_date_sk/cr_returned_time_sk/g' {} \\;\n",
    "find ./ -type f -exec sed -i 's/wr_returned_date_sk/wr_returned_time_sk/g' {} \\;\n",
    "sed -i 's/ d_date / cast(d_date as date) /g' 12.sql 20.sql 21.sql 37.sql 40.sql 5.sql 77.sql 80.sql 82.sql 98.sql;\n",
    "sed -i 's/ d_date / cast(d_date as date) /g' 16.sql ;   change '2001-4-01' to cast('2001-4-01' as date)  --> 16.sql"
   ]
  }
 ],
 "metadata": {
  "environment": {
   "kernel": "python3",
   "name": "tf-gpu.1-15.m93",
   "type": "gcloud",
   "uri": "gcr.io/deeplearning-platform-release/tf-gpu.1-15:m93"
  },
  "kernelspec": {
   "display_name": "Python 3",
   "language": "python",
   "name": "python3"
  },
  "language_info": {
   "codemirror_mode": {
    "name": "ipython",
    "version": 3
   },
   "file_extension": ".py",
   "mimetype": "text/x-python",
   "name": "python",
   "nbconvert_exporter": "python",
   "pygments_lexer": "ipython3",
   "version": "3.7.12"
  }
 },
 "nbformat": 4,
 "nbformat_minor": 5
}
